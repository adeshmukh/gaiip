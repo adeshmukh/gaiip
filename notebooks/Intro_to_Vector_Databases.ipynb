{
  "cells": [
    {
      "cell_type": "markdown",
      "metadata": {},
      "source": [
        "# Intro to Gen AI Orchestration - Vector Databases\n",
        "\n",
        "<a target=\"_blank\" href=\"https://colab.research.google.com/github/adeshmukh/gaiip/blob/main/notebooks/Intro_to_Vector_Databases.ipynb\">\n",
        "  <img src=\"https://colab.research.google.com/assets/colab-badge.svg\" alt=\"Open In Colab\"/>\n",
        "</a>\n"
      ]
    },
    {
      "cell_type": "markdown",
      "metadata": {
        "id": "LwcQjs6uTUTr"
      },
      "source": [
        "## Install dependencies\n"
      ]
    },
    {
      "cell_type": "code",
      "execution_count": 2,
      "metadata": {
        "id": "8qZsAlv7OQFg"
      },
      "outputs": [],
      "source": [
        "%%capture\n",
        "\n",
        "# Takes about 1 minute to install all dependencies.\n",
        "\n",
        "!pip install chromadb         # ChromaDB vector database\n",
        "!pip install faiss-cpu        # FAISS vector database\n",
        "!pip install pinecone-client  # Pinecone vector database client\n",
        "\n",
        "!pip install openai[embeddings]     # OpenAI embeddings (requires API key)\n",
        "!pip install sentence-transformers  # For generating embeddings using sentence transformers models\n",
        "\n",
        "!pip install protoc-gen-openapiv2 # Protobuf support (pinecone dependency)\n",
        "\n",
        "!pip install mmh3  # Murmur3 hash algorithm"
      ]
    },
    {
      "cell_type": "markdown",
      "metadata": {
        "id": "3BkhKKNx5JDh"
      },
      "source": [
        "## Test data\n",
        "\n",
        "Here we're just setting up some data that we will insert into the vector databases.\n"
      ]
    },
    {
      "cell_type": "code",
      "execution_count": 15,
      "metadata": {
        "id": "opuRPKki5Tqr"
      },
      "outputs": [],
      "source": [
        "math_statements = [\n",
        "    \"The area of a rectangle with dimensions L & W is LH.\",\n",
        "    \"The area of a circle with radius R is `πR²`.\",\n",
        "    \"The area of a triangle with base B and height H is `½ BH`.\",\n",
        "    \"The area of a trapezoid with parallel sides A, B and height H is `H(A+B)/2`.\",\n",
        "    \"The area of a parallelogram with base B and height H is BH.\",\n",
        "    \"The surface area of a retangular prism with dimensions H, L, B is `2(LB + BH + HL)`.\",\n",
        "    \"The surface area of a right circular cone with radius of base R and height H is `2πRH`.\",\n",
        "]\n",
        "\n",
        "pets_statements = [\n",
        "    \"\"\"\n",
        "    As an integrated part of modern life, animals play the role of domestic companions, give\n",
        "physical and emotional support to humans, and provide value to many types of organizations\n",
        "(e.g., search and rescue dogs, zoo animals). Animals are also becoming more present in\n",
        "organizations due to employees and customers who bring their pets into the workplace. In\n",
        "addition, the integration of pets into individuals’ family lives also plays an important role in\n",
        "employees’ work-family dynamics.\n",
        "    \"\"\",\n",
        "    \"\"\"\n",
        "     Even though animals are becoming more present in\n",
        "organizational life and play an influential role in employees’ lives, management research has\n",
        "lagged behind these social trends. Therefore, we seek to define the ways in which animals\n",
        "intersect with organizations, highlight opportunities for theory development, and illustrate\n",
        "important areas for future research.\n",
        "    \"\"\",\n",
        "    \"\"\"\n",
        "    To provide more precision about how animals relate to organizations, we posit four types of\n",
        "animals that intersect with organizations: 1) animals who work alongside humans, 2) animals as\n",
        "the focus of organizations or employees, 3) companion animals brought into the workplace by\n",
        "employees or customers, and 4) employees’ companion animals that stay at home.\n",
        "    \"\"\",\n",
        "    \"\"\"\n",
        "    The offices of dentists and doctors often include fish tanks in their patient waiting\n",
        "areas, and previous research has shown that having a fish tank might decrease stress for patients.\n",
        "    \"\"\",\n",
        "    \"\"\"\n",
        "    Employees might feel left out if they are required to avoid certain areas of\n",
        "the office due to an allergy or a fear of dogs or cats\n",
        "    \"\"\",\n",
        "]\n",
        "\n",
        "all_statements = math_statements + pets_statements"
      ]
    },
    {
      "cell_type": "markdown",
      "metadata": {
        "id": "yDh6Z-w2atEn"
      },
      "source": [
        "## Using Vector Databases\n"
      ]
    },
    {
      "cell_type": "markdown",
      "metadata": {
        "id": "bevEJA_64tP_"
      },
      "source": [
        "### ChromaDB\n",
        "\n",
        "(Ref: [https://www.trychroma.com/](https://www.trychroma.com/))\n",
        "\n",
        "ChromaDB is an open-source vector database system. It can be used for storing & searching unstructured data like documents & images.\n"
      ]
    },
    {
      "cell_type": "markdown",
      "metadata": {
        "id": "iO_NeFba8ONU"
      },
      "source": [
        "First, we will create an empty ChromaDB collection.\n"
      ]
    },
    {
      "cell_type": "code",
      "execution_count": 4,
      "metadata": {
        "id": "C0vxGGKe4cO4"
      },
      "outputs": [],
      "source": [
        "import chromadb\n",
        "\n",
        "chroma_client = chromadb.Client()\n",
        "\n",
        "facts_collection = chroma_client.get_or_create_collection(name=\"interesting_facts\")"
      ]
    },
    {
      "cell_type": "markdown",
      "metadata": {
        "id": "XVyDPlqG8JPF"
      },
      "source": [
        "Now we upsert the data into the collection.\n",
        "\n",
        "_(You may also use `add` instead of `upsert` in the example below. The semantics of `add` vs `upsert` are what you'd expect intuitively)_\n"
      ]
    },
    {
      "cell_type": "code",
      "execution_count": 5,
      "metadata": {
        "colab": {
          "base_uri": "https://localhost:8080/"
        },
        "id": "xN_2MfoH464d",
        "outputId": "4fcbe2ba-6e1e-42b4-ca7f-c5eb3ccbd273"
      },
      "outputs": [
        {
          "name": "stderr",
          "output_type": "stream",
          "text": [
            "/root/.cache/chroma/onnx_models/all-MiniLM-L6-v2/onnx.tar.gz: 100%|██████████| 79.3M/79.3M [00:02<00:00, 28.8MiB/s]\n"
          ]
        },
        {
          "data": {
            "text/plain": [
              "12"
            ]
          },
          "execution_count": 5,
          "metadata": {},
          "output_type": "execute_result"
        }
      ],
      "source": [
        "import mmh3\n",
        "\n",
        "# Upsert the math facts to the collection\n",
        "facts_collection.upsert(\n",
        "    ids=[hex(mmh3.hash(statement)) for statement in math_statements],\n",
        "    documents=math_statements,\n",
        "    metadatas=[{\"source\": \"math\"} for _ in math_statements],\n",
        ")\n",
        "\n",
        "# Upsert the pet statements to the collection\n",
        "facts_collection.upsert(\n",
        "    ids=[hex(mmh3.hash(statement)) for statement in pets_statements],\n",
        "    documents=pets_statements,\n",
        "    metadatas=[{\"source\": \"pets\"} for _ in pets_statements],\n",
        ")\n",
        "\n",
        "facts_collection.count()"
      ]
    },
    {
      "cell_type": "markdown",
      "metadata": {
        "id": "uVI_lrxOD5b3"
      },
      "source": [
        "Notes:\n",
        "\n",
        "1. We are providing 3 pieces of information for each item that we insert:  \n",
        "   a. `id` which is calculated as the murmur3 hash of the content.\n",
        "   b. text value as a `document`.  \n",
        "   c. `metadata` that contains the key-value pair `source` and either math or pets as the value.\n",
        "2. The ChromaDB library call to `upsert` (and `add`) is columnar in nature.\n",
        "\n",
        "<hr/>\n"
      ]
    },
    {
      "cell_type": "markdown",
      "metadata": {
        "id": "abETMWJC8ctA"
      },
      "source": [
        "🔎 Now let's query the collection for a fact that we know exists.\n"
      ]
    },
    {
      "cell_type": "code",
      "execution_count": 25,
      "metadata": {
        "colab": {
          "base_uri": "https://localhost:8080/"
        },
        "collapsed": true,
        "id": "rx0zE0j97tcC",
        "outputId": "f8cdb45d-bfc7-4899-9cc2-93a8544dca36"
      },
      "outputs": [
        {
          "data": {
            "text/plain": [
              "{'ids': [['0x568ae5b4', '-0x46830a05', '-0x52bebbd3']],\n",
              " 'distances': [[0.49865448474884033, 0.8906270265579224, 1.0057439804077148]],\n",
              " 'metadatas': [[{'source': 'math'}, {'source': 'math'}, {'source': 'math'}]],\n",
              " 'embeddings': None,\n",
              " 'documents': [['The area of a trapezoid with parallel sides A, B and height H is `H(A+B)/2`.',\n",
              "   'The area of a parallelogram with base B and height H is BH.',\n",
              "   'The area of a triangle with base B and height H is `½ BH`.']],\n",
              " 'uris': None,\n",
              " 'data': None,\n",
              " 'included': ['metadatas', 'documents', 'distances']}"
            ]
          },
          "execution_count": 25,
          "metadata": {},
          "output_type": "execute_result"
        }
      ],
      "source": [
        "results = facts_collection.query(\n",
        "    query_texts=[\"What is the area of a trapezoid?\"], n_results=3\n",
        ")\n",
        "results"
      ]
    },
    {
      "cell_type": "markdown",
      "metadata": {
        "id": "gUQGuOXi18r4"
      },
      "source": [
        "Let's just look at the top result of the one query.\n"
      ]
    },
    {
      "cell_type": "code",
      "execution_count": 26,
      "metadata": {
        "colab": {
          "base_uri": "https://localhost:8080/",
          "height": 36
        },
        "id": "dQHuxD8L1oz2",
        "outputId": "ff9ee93b-9c56-4735-b07d-0947f281cc8a"
      },
      "outputs": [
        {
          "data": {
            "application/vnd.google.colaboratory.intrinsic+json": {
              "type": "string"
            },
            "text/plain": [
              "'The area of a trapezoid with parallel sides A, B and height H is `H(A+B)/2`.'"
            ]
          },
          "execution_count": 26,
          "metadata": {},
          "output_type": "execute_result"
        }
      ],
      "source": [
        "results[\"documents\"][0][0]"
      ]
    },
    {
      "cell_type": "markdown",
      "metadata": {
        "id": "Hx7cm4Gc9xcN"
      },
      "source": [
        "🔎 Let's search with a synonymous term that does not exist as a literal string in the facts collection.\n"
      ]
    },
    {
      "cell_type": "code",
      "execution_count": 70,
      "metadata": {
        "colab": {
          "base_uri": "https://localhost:8080/"
        },
        "id": "8R9FQsW-9gmt",
        "outputId": "66034e4f-47b8-4979-a173-74e171d048a6"
      },
      "outputs": [
        {
          "name": "stdout",
          "output_type": "stream",
          "text": [
            "What is the area of a trapezium? [category: math] ['The area of a trapezoid with parallel sides A, B and height H is `H(A+B)/2`.']\n",
            "What is the area of a rectangular shape? [category: math] ['The area of a rectangle with dimensions L & W is LH.']\n",
            "What is the surface area of a rectangular prism? [category: math] ['The surface area of a retangular prism with dimensions H, L, B is `2(LB + BH + HL)`.']\n",
            "What is the area of a circular shape? [category: math] ['The area of a circle with radius R is `πR²`.']\n",
            "What is the surface area of a circular cone? [category: math] ['The surface area of a right circular cone with radius of base R and height H is `2πRH`.']\n",
            "What is the area of a cone? [category: math] ['The surface area of a right circular cone with radius of base R and height H is `2πRH`.']\n"
          ]
        }
      ],
      "source": [
        "query_texts = [\n",
        "    \"What is the area of a trapezium?\",\n",
        "    \"What is the area of a rectangular shape?\",\n",
        "    \"What is the surface area of a rectangular prism?\",\n",
        "    \"What is the area of a circular shape?\",\n",
        "    \"What is the surface area of a circular cone?\",\n",
        "    \"What is the area of a cone?\",\n",
        "]\n",
        "\n",
        "results = facts_collection.query(query_texts=query_texts, n_results=1)\n",
        "\n",
        "for result in zip(query_texts, results[\"metadatas\"], results[\"documents\"]):\n",
        "    query_text = result[0]\n",
        "    metadata = result[1]\n",
        "    document = result[2]\n",
        "    print(query_text, f\"[category: {metadata[0]['source']}]\", document)"
      ]
    },
    {
      "cell_type": "code",
      "execution_count": 8,
      "metadata": {
        "id": "hHPnloRZ-6SF"
      },
      "outputs": [],
      "source": [
        "# Uncomment the below line and run this cell if you want to clear the collection and start over.\n",
        "\n",
        "# chroma_client.delete_collection(\"interesting_facts\")"
      ]
    },
    {
      "cell_type": "markdown",
      "metadata": {
        "id": "jVW7rUP6RHEy"
      },
      "source": [
        "✨ Semantic search\n"
      ]
    },
    {
      "cell_type": "code",
      "execution_count": 9,
      "metadata": {
        "colab": {
          "base_uri": "https://localhost:8080/"
        },
        "id": "wu_wNXhNAP14",
        "outputId": "7d30e94b-24ea-48a8-dc83-31feef29fc3b"
      },
      "outputs": [
        {
          "data": {
            "text/plain": [
              "{'ids': [['-0x1eac65dc', '0x6d8504ee']],\n",
              " 'distances': [[0.7810479402542114, 0.8007870316505432]],\n",
              " 'metadatas': [[{'source': 'pets'}, {'source': 'pets'}]],\n",
              " 'embeddings': None,\n",
              " 'documents': [['\\n    Employees might feel left out if they are required to avoid certain areas of\\nthe office due to an allergy or a fear of dogs or cats\\n    ',\n",
              "   '\\n    As an integrated part of modern life, animals play the role of domestic companions, give\\nphysical and emotional support to humans, and provide value to many types of organizations\\n(e.g., search and rescue dogs, zoo animals). Animals are also becoming more present in\\norganizations due to employees and customers who bring their pets into the workplace. In\\naddition, the integration of pets into individuals’ family lives also plays an important role in\\nemployees’ work-family dynamics.\\n    ']],\n",
              " 'uris': None,\n",
              " 'data': None,\n",
              " 'included': ['metadatas', 'documents', 'distances']}"
            ]
          },
          "execution_count": 9,
          "metadata": {},
          "output_type": "execute_result"
        }
      ],
      "source": [
        "results = facts_collection.query(\n",
        "    query_texts=[\"What are the downsides of having pets at work?\"], n_results=2\n",
        ")\n",
        "\n",
        "results"
      ]
    },
    {
      "cell_type": "markdown",
      "metadata": {
        "id": "rOsGGrG0GBsp"
      },
      "source": [
        "### FAISS\n",
        "\n",
        "(Ref: [https://ai.meta.com/tools/faiss/](https://ai.meta.com/tools/faiss/))\n",
        "\n",
        "FAISS (Facebook AI Similarity Search) is a library that allows developers to quickly search ... multimedia documents that are similar to each other. It solves limitations of traditional query search engines that are optimized for hash-based searches, and provides more scalable similarity search functions.\n",
        "\n",
        "Compared to ChromaDB, FAISS has a lower level abstraction. It is designed to be flexible and can be used as an engine for building a custom vector database.\n"
      ]
    },
    {
      "cell_type": "markdown",
      "metadata": {
        "id": "EQk4yzKGbITj"
      },
      "source": [
        "First, we will create an embedding model object.\n"
      ]
    },
    {
      "cell_type": "code",
      "execution_count": 40,
      "metadata": {
        "colab": {
          "base_uri": "https://localhost:8080/"
        },
        "id": "pVw4rBZHDWJC",
        "outputId": "94bf4aac-28bd-4aa3-b6fc-eaacc3e0249d"
      },
      "outputs": [
        {
          "name": "stderr",
          "output_type": "stream",
          "text": [
            "/usr/local/lib/python3.10/dist-packages/huggingface_hub/file_download.py:1132: FutureWarning: `resume_download` is deprecated and will be removed in version 1.0.0. Downloads always resume when possible. If you want to force a new download, use `force_download=True`.\n",
            "  warnings.warn(\n"
          ]
        }
      ],
      "source": [
        "from sentence_transformers import SentenceTransformer\n",
        "\n",
        "# initialize sentence transformer model\n",
        "model = SentenceTransformer(\"all-MiniLM-L6-v2\")\n",
        "\n",
        "# You can try other SentenceTransformer models, e.g.:\n",
        "# model = SentenceTransformer('bert-base-nli-mean-tokens')\n",
        "\n",
        "# ... or from other providers like OpenAI\n",
        "# !pip install openai[embeddings]\n",
        "# model = OpenAI(model='text-embedding-3-small')\n",
        "# model = OpenAI(model='text-embedding-3-large')\n",
        "# model = OpenAI(model='text-embedding-ada-002')"
      ]
    },
    {
      "cell_type": "code",
      "execution_count": 11,
      "metadata": {
        "colab": {
          "base_uri": "https://localhost:8080/"
        },
        "id": "Fu07VAYXKeJU",
        "outputId": "0c39cc82-f598-4ebe-c2e5-ba43a77e3813"
      },
      "outputs": [
        {
          "name": "stdout",
          "output_type": "stream",
          "text": [
            "Math embeddings shape (items, dimensions):  (7, 384)\n",
            "Pets embeddings shape (items, dimensions):  (5, 384)\n"
          ]
        }
      ],
      "source": [
        "# create sentence embeddings\n",
        "math_embeddings = model.encode(math_statements)\n",
        "pets_embeddings = model.encode(pets_statements)\n",
        "\n",
        "print(\"Math embeddings shape (items, dimensions): \", math_embeddings.shape)\n",
        "print(\"Pets embeddings shape (items, dimensions): \", pets_embeddings.shape)"
      ]
    },
    {
      "cell_type": "code",
      "execution_count": 12,
      "metadata": {
        "colab": {
          "base_uri": "https://localhost:8080/"
        },
        "id": "0jKQmaSwItvk",
        "outputId": "1a6332a2-76de-4401-dfc0-2b49d5fbe9dc"
      },
      "outputs": [
        {
          "data": {
            "text/plain": [
              "12"
            ]
          },
          "execution_count": 12,
          "metadata": {},
          "output_type": "execute_result"
        }
      ],
      "source": [
        "import faiss\n",
        "\n",
        "\n",
        "facts_index = faiss.IndexFlatL2(model.get_sentence_embedding_dimension())\n",
        "\n",
        "facts_index.add(math_embeddings)\n",
        "facts_index.add(pets_embeddings)\n",
        "\n",
        "facts_index.ntotal"
      ]
    },
    {
      "cell_type": "code",
      "execution_count": 16,
      "metadata": {
        "id": "d5yl0ZgcMWg2"
      },
      "outputs": [],
      "source": [
        "from typing import List\n",
        "from faiss import Index\n",
        "\n",
        "\n",
        "def search_faiss_index(query_text: str, n_results=1) -> List[str]:\n",
        "    \"\"\"\n",
        "    Convenience function to make it easier to query the index\n",
        "    with different text queries.\n",
        "    \"\"\"\n",
        "\n",
        "    global all_statements\n",
        "    global model\n",
        "    global facts_index\n",
        "\n",
        "    # Encode the query into embeddings\n",
        "    query = model.encode([query_text])\n",
        "\n",
        "    # Find the closest embeddings\n",
        "    distances, indices = facts_index.search(query, n_results)\n",
        "\n",
        "    # Lookup statements corresponding to the embedding position\n",
        "    matching_statements = [all_statements[i] for i in indices[0]]\n",
        "\n",
        "    return matching_statements"
      ]
    },
    {
      "cell_type": "code",
      "execution_count": 17,
      "metadata": {
        "colab": {
          "base_uri": "https://localhost:8080/"
        },
        "id": "di5f_opZOrYY",
        "outputId": "401ee77a-8cde-4118-92c8-cf027e9352b1"
      },
      "outputs": [
        {
          "data": {
            "text/plain": [
              "['The area of a trapezoid with parallel sides A, B and height H is `H(A+B)/2`.']"
            ]
          },
          "execution_count": 17,
          "metadata": {},
          "output_type": "execute_result"
        }
      ],
      "source": [
        "results = search_faiss_index(query_text=\"What is the area of a trapezoid?\")\n",
        "results"
      ]
    },
    {
      "cell_type": "code",
      "execution_count": 18,
      "metadata": {
        "colab": {
          "base_uri": "https://localhost:8080/"
        },
        "id": "q50fZOyNPBDh",
        "outputId": "dda99a51-14ab-4978-f1b6-2add190eb3a4"
      },
      "outputs": [
        {
          "name": "stdout",
          "output_type": "stream",
          "text": [
            "What is the area of a trapezium? ['The area of a trapezoid with parallel sides A, B and height H is `H(A+B)/2`.']\n",
            "What is the area of a rectangular shape? ['The area of a rectangle with dimensions L & W is LH.']\n",
            "What is the surface area of a rectangular prism? ['The surface area of a retangular prism with dimensions H, L, B is `2(LB + BH + HL)`.']\n",
            "What is the area of a circular shape? ['The area of a circle with radius R is `πR²`.']\n",
            "What is the surface area of a circular cone? ['The surface area of a right circular cone with radius of base R and height H is `2πRH`.']\n",
            "What is the area of a cone? ['The surface area of a right circular cone with radius of base R and height H is `2πRH`.']\n",
            "What are the downsides of having pets at work? ['\\n    Employees might feel left out if they are required to avoid certain areas of\\nthe office due to an allergy or a fear of dogs or cats\\n    ']\n"
          ]
        }
      ],
      "source": [
        "query_texts = [\n",
        "    \"What is the area of a trapezium?\",\n",
        "    \"What is the area of a rectangular shape?\",\n",
        "    \"What is the surface area of a rectangular prism?\",\n",
        "    \"What is the area of a circular shape?\",\n",
        "    \"What is the surface area of a circular cone?\",\n",
        "    \"What is the area of a cone?\",\n",
        "    \"What are the downsides of having pets at work?\",\n",
        "]\n",
        "\n",
        "for query_text in query_texts:\n",
        "    results = search_faiss_index(query_text=query_text, n_results=1)\n",
        "    print(query_text, results)"
      ]
    },
    {
      "cell_type": "markdown",
      "metadata": {
        "id": "c-idFzypv_vi"
      },
      "source": [
        "### Pinecone\n"
      ]
    },
    {
      "cell_type": "markdown",
      "metadata": {
        "id": "ZVZ1qUQpxVRw"
      },
      "source": [
        "#### Setting up Pinecone\n",
        "\n",
        "1. Create an account at https://app.pinecone.io/ (You may use Google/Github/Microsoft auth).\n",
        "2. Login and get or create an API Key (Manage > API Keys > Copy key value).\n",
        "3. Create a Colab secret named `PINECONE_API_KEY` and paste the copied value.\n",
        "4. Enable the secret for this notebook (sliding toggle next to secret name).\n"
      ]
    },
    {
      "cell_type": "markdown",
      "metadata": {
        "id": "G1MggBKZyWjT"
      },
      "source": [
        "#### Using Pinecone\n"
      ]
    },
    {
      "cell_type": "markdown",
      "metadata": {
        "id": "xu6JJU1ay0P6"
      },
      "source": [
        "For this session, we will be creating a `Serverless` index.\n",
        "\n",
        "Pinecone also supports what they call a `pod-based` index. The difference between the 2 is roughly analogous to using a serverless AWS service vs a managed AWS service. i.e. with `pod-based` index, you need to pick and configure a few more parameters.\n",
        "\n",
        "Generally, it seems like `serverless` is what Pinecone is promoting as the lower cost and hassle-free option. So it's a good option to start with.\n"
      ]
    },
    {
      "cell_type": "code",
      "execution_count": 34,
      "metadata": {
        "id": "maMqR7EkwB65"
      },
      "outputs": [],
      "source": [
        "from pinecone.grpc import PineconeGRPC as Pinecone\n",
        "from pinecone import ServerlessSpec\n",
        "\n",
        "from google.colab import userdata\n",
        "\n",
        "pinecone_api_key = userdata.get(\"PINECONE_API_KEY\")\n",
        "\n",
        "pc = Pinecone(api_key=pinecone_api_key)"
      ]
    },
    {
      "cell_type": "code",
      "execution_count": 41,
      "metadata": {
        "id": "MuY5J7qNzoLb"
      },
      "outputs": [],
      "source": [
        "import mmh3"
      ]
    },
    {
      "cell_type": "code",
      "execution_count": 42,
      "metadata": {
        "id": "buOm1ueU4tAc"
      },
      "outputs": [],
      "source": [
        "from sentence_transformers import SentenceTransformer\n",
        "\n",
        "# initialize sentence transformer model\n",
        "model = SentenceTransformer(\"all-MiniLM-L6-v2\")\n",
        "\n",
        "# You can try other SentenceTransformer models, e.g.:\n",
        "# model = SentenceTransformer('bert-base-nli-mean-tokens')\n",
        "\n",
        "# ... or from other providers like OpenAI\n",
        "# !pip install openai[embeddings]\n",
        "# model = OpenAI(model='text-embedding-3-small')\n",
        "# model = OpenAI(model='text-embedding-3-large')\n",
        "# model = OpenAI(model='text-embedding-ada-002')"
      ]
    },
    {
      "cell_type": "markdown",
      "metadata": {
        "id": "OvCSNuns6i9-"
      },
      "source": [
        "Now we will create the pinecone index. The index will be created remotely in the Pinecone service.\n",
        "\n",
        "Note:\n",
        "\n",
        "1. `create_index` does not return the index object.\n",
        "2. Pinecone index names cannot container `_` character.\n",
        "3. `create_index` is not rerunnable. It fails if the index is already created.\n"
      ]
    },
    {
      "cell_type": "code",
      "execution_count": 56,
      "metadata": {
        "id": "hyGFIIOE6EbH"
      },
      "outputs": [],
      "source": [
        "pc.create_index(\n",
        "    name=\"interesting-facts\",\n",
        "    dimension=model.get_sentence_embedding_dimension(),\n",
        "    metric=\"cosine\",\n",
        "    spec=ServerlessSpec(cloud=\"aws\", region=\"us-east-1\"),\n",
        ")"
      ]
    },
    {
      "cell_type": "code",
      "execution_count": 57,
      "metadata": {
        "id": "-LNDv8Gq4wLy"
      },
      "outputs": [],
      "source": [
        "pc_index = pc.Index(\"interesting-facts\")\n",
        "\n",
        "for statement in math_statements:\n",
        "    pc_index.upsert(\n",
        "        vectors=[\n",
        "            {\n",
        "                \"id\": hex(mmh3.hash(statement)),\n",
        "                \"values\": model.encode(statement),\n",
        "                \"metadata\": {\"source\": \"math\", \"text\": statement},\n",
        "            }\n",
        "        ]\n",
        "    )\n",
        "\n",
        "for statement in pets_statements:\n",
        "    pc_index.upsert(\n",
        "        vectors=[\n",
        "            {\n",
        "                \"id\": hex(mmh3.hash(statement)),\n",
        "                \"values\": model.encode(statement),\n",
        "                \"metadata\": {\"source\": \"pets\", \"text\": statement},\n",
        "            }\n",
        "        ]\n",
        "    )"
      ]
    },
    {
      "cell_type": "code",
      "execution_count": 54,
      "metadata": {
        "id": "bjFn2wc45Ifa"
      },
      "outputs": [],
      "source": [
        "# Uncomment and run to delete index\n",
        "\n",
        "# pc.delete_index(\"interesting-facts\")"
      ]
    },
    {
      "cell_type": "code",
      "execution_count": 69,
      "metadata": {
        "colab": {
          "base_uri": "https://localhost:8080/"
        },
        "id": "XDcic1j-5Lr8",
        "outputId": "f3bb5bd2-4dfd-4cb1-d95f-33bb4000b728"
      },
      "outputs": [
        {
          "name": "stdout",
          "output_type": "stream",
          "text": [
            "What is the area of a trapezium? [category: math] The area of a trapezoid with parallel sides A, B and height H is `H(A+B)/2`.\n",
            "What is the area of a rectangular shape? [category: math] The area of a rectangle with dimensions L & W is LH.\n",
            "What is the surface area of a rectangular prism? [category: math] The surface area of a retangular prism with dimensions H, L, B is `2(LB + BH + HL)`.\n",
            "What is the area of a circular shape? [category: math] The area of a circle with radius R is `πR²`.\n",
            "What is the surface area of a circular cone? [category: math] The surface area of a right circular cone with radius of base R and height H is `2πRH`.\n",
            "What is the area of a cone? [category: math] The surface area of a right circular cone with radius of base R and height H is `2πRH`.\n",
            "What are the downsides of having pets at work? [category: pets] \n",
            "    Employees might feel left out if they are required to avoid certain areas of\n",
            "the office due to an allergy or a fear of dogs or cats\n",
            "    \n"
          ]
        }
      ],
      "source": [
        "query_texts = [\n",
        "    \"What is the area of a trapezium?\",\n",
        "    \"What is the area of a rectangular shape?\",\n",
        "    \"What is the surface area of a rectangular prism?\",\n",
        "    \"What is the area of a circular shape?\",\n",
        "    \"What is the surface area of a circular cone?\",\n",
        "    \"What is the area of a cone?\",\n",
        "    \"What are the downsides of having pets at work?\",\n",
        "]\n",
        "\n",
        "sample_results = None\n",
        "for query_text in query_texts:\n",
        "    results = pc_index.query(\n",
        "        vector=model.encode(query_text),\n",
        "        top_k=1,\n",
        "        include_values=False,\n",
        "        include_metadata=True,\n",
        "    )\n",
        "    metadata = results[\"matches\"][0][\"metadata\"]  # Pick [0] since top_k = 1\n",
        "\n",
        "    sample_results = results\n",
        "    print(query_text, f\"[category: {metadata['source']}]\", metadata[\"text\"])"
      ]
    }
  ],
  "metadata": {
    "colab": {
      "provenance": []
    },
    "kernelspec": {
      "display_name": "Python 3",
      "name": "python3"
    },
    "language_info": {
      "name": "python"
    }
  },
  "nbformat": 4,
  "nbformat_minor": 0
}
