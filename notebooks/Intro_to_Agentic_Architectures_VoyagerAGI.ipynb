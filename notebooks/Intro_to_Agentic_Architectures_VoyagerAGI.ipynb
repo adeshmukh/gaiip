{
  "nbformat": 4,
  "nbformat_minor": 0,
  "metadata": {
    "colab": {
      "provenance": [],
      "collapsed_sections": [
        "D9dvAwLCb9xn",
        "XWZIYWcRaKb9"
      ],
      "authorship_tag": "ABX9TyNIb325uaGKWfjgEPlWXnVd",
      "include_colab_link": true
    },
    "kernelspec": {
      "name": "python3",
      "display_name": "Python 3"
    },
    "language_info": {
      "name": "python"
    }
  },
  "cells": [
    {
      "cell_type": "markdown",
      "metadata": {
        "id": "view-in-github",
        "colab_type": "text"
      },
      "source": [
        "<a href=\"https://colab.research.google.com/github/adeshmukh/gaiip/blob/main/notebooks/Intro_to_Agentic_Architectures_VoyagerAGI.ipynb\" target=\"_parent\"><img src=\"https://colab.research.google.com/assets/colab-badge.svg\" alt=\"Open In Colab\"/></a>"
      ]
    },
    {
      "cell_type": "markdown",
      "source": [
        "# Voyager AGI\n",
        "\n",
        "This notebook contains an illustrative implementation of the Voyager AGI architecture.\n",
        "\n"
      ],
      "metadata": {
        "id": "4Dx_SAoIAsB-"
      }
    },
    {
      "cell_type": "markdown",
      "source": [
        "## Setup"
      ],
      "metadata": {
        "id": "KzmAW92O2l5L"
      }
    },
    {
      "cell_type": "code",
      "source": [
        "%%capture\n",
        "\n",
        "!pip install langchain\n",
        "!pip install langchain-community\n",
        "!pip install langgraph\n",
        "!pip install langchainhub\n",
        "\n",
        "!pip install langchain_openai\n",
        "!pip install langchain-anthropic\n",
        "\n",
        "!pip install openai\n",
        "!pip install tavily-python\n",
        "!pip install google-search-results\n",
        "!pip install wikipedia\n",
        "!pip install duckduckgo-search\n"
      ],
      "metadata": {
        "id": "3Wg9Atlygcp1"
      },
      "execution_count": null,
      "outputs": []
    },
    {
      "cell_type": "code",
      "source": [
        "from google.colab import userdata\n",
        "import os\n",
        "\n",
        "\n",
        "key_names = [\n",
        "    'ANTHROPIC_API_KEY',\n",
        "    'OPENAI_API_KEY',\n",
        "    'PINECONE_API_KEY',\n",
        "    'SERPAPI_API_KEY',\n",
        "    'TAVILY_API_KEY',\n",
        "  ]\n",
        "\n",
        "for key_name in key_names:\n",
        "    os.environ[key_name] = userdata.get(key_name)"
      ],
      "metadata": {
        "id": "80ngLkAURJOb"
      },
      "execution_count": null,
      "outputs": []
    },
    {
      "cell_type": "code",
      "source": [
        "import logging\n",
        "\n",
        "logger = logging.getLogger('colab')\n",
        "\n",
        "logging.basicConfig()"
      ],
      "metadata": {
        "id": "glvZdnb4Flbd"
      },
      "execution_count": null,
      "outputs": []
    },
    {
      "cell_type": "markdown",
      "source": [
        "### Model selection\n",
        "\n",
        "Uncomment the appropriate line to select the model. This notebook should work with any of these models."
      ],
      "metadata": {
        "id": "mkSXN9uUYLDk"
      }
    },
    {
      "cell_type": "code",
      "source": [
        "# OpenAI models\n",
        "openai_model_name = 'gpt-3.5-turbo'  # Inexpensive, fast, good for simple tasks\n",
        "# openai_model_name = 'gpt-4o'         # Medium cost, fastest\n",
        "\n",
        "# Anthropic Claude3 models\n",
        "anthropic_model_name = 'claude-3-sonnet-20240229'  # Medium cost, Best performance on benchmarks\n",
        "# anthropic_model_name = 'claude-3-opus-20240229'  # Most expensive\n",
        "# anthropic_model_name = 'claude-3-haiku-20240307' # Leat expensive\n"
      ],
      "metadata": {
        "id": "SEPFQWKNYI-a"
      },
      "execution_count": null,
      "outputs": []
    },
    {
      "cell_type": "markdown",
      "source": [
        "-----------------------------------------"
      ],
      "metadata": {
        "id": "7pc1zogFRYXK"
      }
    },
    {
      "cell_type": "markdown",
      "source": [
        "### Implemenation with simulated LLM\n",
        "\n",
        "First, we implement the core Voyager logic and plug in a class to simulate LLM interactions."
      ],
      "metadata": {
        "id": "D9dvAwLCb9xn"
      }
    },
    {
      "cell_type": "code",
      "source": [
        "import random\n",
        "\n",
        "class VoyagerAgent:\n",
        "    def __init__(self, llm, environment):\n",
        "        self.llm = llm\n",
        "        self.environment = environment\n",
        "        self.inventory = []\n",
        "        self.skills = set()\n",
        "\n",
        "    def generate_plan(self):\n",
        "        prompt = f\"\"\"\n",
        "        Current inventory: {self.inventory}.\n",
        "        Current skills: {self.skills}.\n",
        "        Generate a plan to craft a new item.\n",
        "        \"\"\"\n",
        "\n",
        "        return self.llm.generate_plan(prompt)\n",
        "\n",
        "    def execute_plan(self, plan):\n",
        "        code = self.llm.generate_code(plan)\n",
        "        local_vars = {\n",
        "            'agent': self,\n",
        "            'environment': self.environment\n",
        "        }\n",
        "        exec(code, globals(), local_vars)\n",
        "        new_inventory = local_vars.get('new_inventory', [])\n",
        "        new_skills = local_vars.get('new_skills', set())\n",
        "        self.update_state(new_inventory, new_skills)\n",
        "\n",
        "    def update_state(self, new_items, new_skills):\n",
        "        self.inventory.extend(new_items)\n",
        "        self.skills.update(new_skills)\n",
        "\n",
        "    def reflect(self, outcome):\n",
        "        reflection = self.llm.generate_reflection(f\"Reflect on the outcome: {outcome}\")\n",
        "        print(f\"Agent reflection: {reflection}\")\n",
        "\n",
        "\n",
        "class MinecraftEnvironment:\n",
        "    def __init__(self, wood=100, stone=10, iron=50):\n",
        "        self.world = {\"wood\": wood, \"stone\": stone, \"iron\": iron}\n",
        "\n",
        "    def get_item(self, item):\n",
        "      \"\"\"Returns True if the item is available and consumed, False otherwise.\"\"\"\n",
        "\n",
        "      if item in self.world and self.world[item] > 0:\n",
        "          self.world[item] -= 1\n",
        "          return True\n",
        "\n",
        "      return False\n",
        "\n",
        "    def craft_item(self, recipe):\n",
        "        \"\"\"Simplified crafting logic\"\"\"\n",
        "\n",
        "        # Check if all ingredients required for the recipe are available.\n",
        "        return all(self.get_item(ingredient) for ingredient in recipe)\n",
        "\n",
        "# Simulated LLM for demonstration purposes\n",
        "class SimpleLLM:\n",
        "    def generate_plan(self, prompt):\n",
        "        return \"1. Gather wood\\n2. Craft a wooden pickaxe\\n3. Mine stone\\n4. Craft a stone pickaxe\"\n",
        "\n",
        "    def generate_code(self, plan):\n",
        "        return \"\"\"\n",
        "def execute_plan(agent, environment):\n",
        "    new_inventory = []\n",
        "    new_skills = set()\n",
        "\n",
        "    if environment.get_item(\"wood\"):\n",
        "        new_inventory.append(\"wood\")\n",
        "    if \"wood\" in agent.inventory or \"wood\" in new_inventory:\n",
        "        if environment.craft_item([\"wood\", \"wood\"]):\n",
        "            new_inventory.append(\"wooden_pickaxe\")\n",
        "            new_skills.add(\"woodworking\")\n",
        "    if \"wooden_pickaxe\" in agent.inventory or \"wooden_pickaxe\" in new_inventory:\n",
        "        if environment.get_item(\"stone\"):\n",
        "            new_inventory.append(\"stone\")\n",
        "    if (\"stone\" in agent.inventory or \"stone\" in new_inventory) and (\"woodworking\" in agent.skills or \"woodworking\" in new_skills):\n",
        "        if environment.craft_item([\"stone\", \"wood\"]):\n",
        "            new_inventory.append(\"stone_pickaxe\")\n",
        "            new_skills.add(\"stoneworking\")\n",
        "\n",
        "    return new_inventory, new_skills\n",
        "\n",
        "new_inventory, new_skills = execute_plan(agent, environment)\n",
        "\"\"\"\n",
        "\n",
        "    def generate_reflection(self, prompt):\n",
        "        return \"The plan was executed successfully, resulting in new items crafted and skills learned.\"\n"
      ],
      "metadata": {
        "id": "_R3IfZyOB-wk"
      },
      "execution_count": null,
      "outputs": []
    },
    {
      "cell_type": "markdown",
      "source": [
        "Put together the pieces"
      ],
      "metadata": {
        "id": "SjCV-8M5Z3CP"
      }
    },
    {
      "cell_type": "code",
      "source": [
        "llm = SimpleLLM()\n",
        "env = MinecraftEnvironment(wood=20, stone=0, iron=5)\n",
        "agent = VoyagerAgent(llm, env)\n",
        "\n",
        "def step_forward():\n",
        "  plan = agent.generate_plan()\n",
        "  print(f\"--- Generated plan:\\n{plan}\")\n",
        "\n",
        "  agent.execute_plan(plan)\n",
        "\n",
        "  print(f\"--- Updated inventory: {agent.inventory}\")\n",
        "  print(f\"--- Updated skills: {agent.skills}\")\n",
        "  print(\"==========================\")\n",
        "  agent.reflect(\"New items crafted and skills learned\")"
      ],
      "metadata": {
        "id": "OZWNw0ICZ1Hy"
      },
      "execution_count": null,
      "outputs": []
    },
    {
      "cell_type": "code",
      "source": [
        "# In reality, this could be an infinite loop for continuous exploration\n",
        "for i in range(2):\n",
        "  step_forward()"
      ],
      "metadata": {
        "colab": {
          "base_uri": "https://localhost:8080/"
        },
        "id": "nJCBEYYmDmbX",
        "outputId": "141d09a8-1f89-4055-e42e-f64134d2193a"
      },
      "execution_count": null,
      "outputs": [
        {
          "output_type": "stream",
          "name": "stdout",
          "text": [
            "--- Generated plan:\n",
            "1. Gather wood\n",
            "2. Craft a wooden pickaxe\n",
            "3. Mine stone\n",
            "4. Craft a stone pickaxe\n",
            "--- Updated inventory: ['wood', 'wooden_pickaxe']\n",
            "--- Updated skills: {'woodworking'}\n",
            "==========================\n",
            "Agent reflection: The plan was executed successfully, resulting in new items crafted and skills learned.\n",
            "--- Generated plan:\n",
            "1. Gather wood\n",
            "2. Craft a wooden pickaxe\n",
            "3. Mine stone\n",
            "4. Craft a stone pickaxe\n",
            "--- Updated inventory: ['wood', 'wooden_pickaxe', 'wood', 'wooden_pickaxe']\n",
            "--- Updated skills: {'woodworking'}\n",
            "==========================\n",
            "Agent reflection: The plan was executed successfully, resulting in new items crafted and skills learned.\n"
          ]
        }
      ]
    },
    {
      "cell_type": "markdown",
      "source": [
        "### Implementation with a real LLM\n",
        "\n",
        "Now we will attempt to use an actual LLM instead of the simulated one in the prior example.\n",
        "\n",
        "Also, we will use LangChain as the framework for this implementation."
      ],
      "metadata": {
        "id": "XWZIYWcRaKb9"
      }
    },
    {
      "cell_type": "code",
      "source": [
        "import os\n",
        "from langchain.chat_models import ChatOpenAI\n",
        "from langchain.prompts import ChatPromptTemplate\n",
        "from langchain.chains import LLMChain\n",
        "from langchain.output_parsers import PydanticOutputParser\n",
        "from pydantic import BaseModel, Field\n",
        "from typing import List, Dict\n",
        "\n",
        "\n",
        "# Define the MinecraftEnvironment\n",
        "class MinecraftEnvironment:\n",
        "    def __init__(self):\n",
        "        self.resources = {\n",
        "            \"wood\": 0,\n",
        "            \"stone\": 0,\n",
        "            \"iron\": 0,\n",
        "            \"diamond\": 0,\n",
        "            \"coal\": 0\n",
        "        }\n",
        "        self.crafted_items = {\n",
        "            \"wooden_pickaxe\": 0,\n",
        "            \"stone_pickaxe\": 0,\n",
        "            \"iron_pickaxe\": 0,\n",
        "            \"furnace\": 0\n",
        "        }\n",
        "\n",
        "    def gather_resource(self, resource: str, amount: int):\n",
        "        if resource in self.resources:\n",
        "            self.resources[resource] += amount\n",
        "            return f\"Gathered {amount} {resource}\"\n",
        "        return f\"Cannot gather {resource}\"\n",
        "\n",
        "    def craft_item(self, item: str):\n",
        "        if item == \"wooden_pickaxe\" and self.resources[\"wood\"] >= 3:\n",
        "            self.resources[\"wood\"] -= 3\n",
        "            self.crafted_items[\"wooden_pickaxe\"] += 1\n",
        "            return \"Crafted wooden pickaxe\"\n",
        "        elif item == \"stone_pickaxe\" and self.resources[\"wood\"] >= 2 and self.resources[\"stone\"] >= 3:\n",
        "            self.resources[\"wood\"] -= 2\n",
        "            self.resources[\"stone\"] -= 3\n",
        "            self.crafted_items[\"stone_pickaxe\"] += 1\n",
        "            return \"Crafted stone pickaxe\"\n",
        "        elif item == \"iron_pickaxe\" and self.resources[\"wood\"] >= 2 and self.resources[\"iron\"] >= 3:\n",
        "            self.resources[\"wood\"] -= 2\n",
        "            self.resources[\"iron\"] -= 3\n",
        "            self.crafted_items[\"iron_pickaxe\"] += 1\n",
        "            return \"Crafted iron pickaxe\"\n",
        "        elif item == \"furnace\" and self.resources[\"stone\"] >= 8:\n",
        "            self.resources[\"stone\"] -= 8\n",
        "            self.crafted_items[\"furnace\"] += 1\n",
        "            return \"Crafted furnace\"\n",
        "        return f\"Cannot craft {item}\"\n",
        "\n",
        "    def get_state(self):\n",
        "        return f\"Resources: {self.resources}\\nCrafted items: {self.crafted_items}\"\n",
        "\n",
        "# Define the Plan model\n",
        "class Action(BaseModel):\n",
        "    action_type: str = Field(description=\"Type of action: 'gather' or 'craft'\")\n",
        "    target: str = Field(description=\"Resource to gather or item to craft\")\n",
        "    amount: int = Field(description=\"Amount to gather (for 'gather' action)\")\n",
        "\n",
        "class Plan(BaseModel):\n",
        "    actions: List[Action] = Field(description=\"List of actions to perform\")\n",
        "\n",
        "# Create the LLM\n",
        "llm = ChatOpenAI(temperature=0, model_name=\"gpt-3.5-turbo\")\n",
        "\n",
        "# Create the plan generation prompt\n",
        "plan_prompt = ChatPromptTemplate.from_template(\n",
        "    \"\"\"You are an AI agent in a simplified Minecraft environment.\n",
        "    Your goal is to create a plan to gather resources and craft items.\n",
        "\n",
        "    Current state:\n",
        "    {current_state}\n",
        "\n",
        "    Goal: {goal}\n",
        "\n",
        "    Create a plan to achieve the goal. The plan should be a list of actions.\n",
        "    Each action should be either 'gather' (to collect resources) or 'craft' (to create items).\n",
        "\n",
        "    Output the plan as a JSON object with the following structure:\n",
        "    {format_instructions}\n",
        "    \"\"\"\n",
        ")\n",
        "\n",
        "# Create the plan generation chain\n",
        "plan_parser = PydanticOutputParser(pydantic_object=Plan)\n",
        "plan_chain = LLMChain(\n",
        "    llm=llm,\n",
        "    prompt=plan_prompt,\n",
        "    output_parser=plan_parser\n",
        ")\n",
        "\n",
        "# Function to execute the plan\n",
        "def execute_plan(env: MinecraftEnvironment, plan: Plan):\n",
        "    results = []\n",
        "    for action in plan.actions:\n",
        "        if action.action_type == \"gather\":\n",
        "            result = env.gather_resource(action.target, action.amount)\n",
        "        elif action.action_type == \"craft\":\n",
        "            result = env.craft_item(action.target)\n",
        "        else:\n",
        "            result = f\"Unknown action: {action.action_type}\"\n",
        "        results.append(result)\n",
        "    return results\n",
        "\n",
        "# Main loop\n",
        "def main():\n",
        "    env = MinecraftEnvironment()\n",
        "    print(\"Starting Voyager AGI simulation...\")\n",
        "\n",
        "    goals = [\n",
        "        \"Craft a stone pickaxe\",\n",
        "        \"Gather 10 iron ore\",\n",
        "        \"Craft an iron pickaxe\",\n",
        "        \"Gather 5 diamonds\"\n",
        "    ]\n",
        "\n",
        "    for goal in goals:\n",
        "        print(f\"\\nCurrent goal: {goal}\")\n",
        "        print(\"Current state:\")\n",
        "        print(env.get_state())\n",
        "\n",
        "        # Generate plan\n",
        "        plan = plan_chain.run(\n",
        "            current_state=env.get_state(),\n",
        "            goal=goal,\n",
        "            format_instructions=plan_parser.get_format_instructions()\n",
        "        )\n",
        "\n",
        "        print(\"\\nGenerated plan:\")\n",
        "        for action in plan.actions:\n",
        "            print(f\"- {action.action_type} {action.target}\" + (f\" (amount: {action.amount})\" if action.action_type == \"gather\" else \"\"))\n",
        "\n",
        "        # Execute plan\n",
        "        print(\"\\nExecuting plan:\")\n",
        "        results = execute_plan(env, plan)\n",
        "        for result in results:\n",
        "            print(f\"- {result}\")\n",
        "\n",
        "        # Reflect on outcome\n",
        "        print(\"\\nReflection:\")\n",
        "        print(env.get_state())\n",
        "\n",
        "        if goal == \"Craft a stone pickaxe\" and env.crafted_items[\"stone_pickaxe\"] > 0:\n",
        "            print(\"Goal achieved: Crafted a stone pickaxe\")\n",
        "        elif goal == \"Gather 10 iron ore\" and env.resources[\"iron\"] >= 10:\n",
        "            print(\"Goal achieved: Gathered 10 iron ore\")\n",
        "        elif goal == \"Craft an iron pickaxe\" and env.crafted_items[\"iron_pickaxe\"] > 0:\n",
        "            print(\"Goal achieved: Crafted an iron pickaxe\")\n",
        "        elif goal == \"Gather 5 diamonds\" and env.resources[\"diamond\"] >= 5:\n",
        "            print(\"Goal achieved: Gathered 5 diamonds\")\n",
        "        else:\n",
        "            print(\"Goal not achieved. The agent may need to generate a new plan or adjust its strategy.\")\n",
        "\n",
        "if __name__ == \"__main__\":\n",
        "    main()"
      ],
      "metadata": {
        "colab": {
          "base_uri": "https://localhost:8080/"
        },
        "id": "vZobioLzJzT1",
        "outputId": "9547c13b-c04f-48a7-a82d-0cd7bc912dd7"
      },
      "execution_count": null,
      "outputs": [
        {
          "output_type": "stream",
          "name": "stderr",
          "text": [
            "/usr/local/lib/python3.10/dist-packages/langchain_core/_api/deprecation.py:139: LangChainDeprecationWarning: The class `ChatOpenAI` was deprecated in LangChain 0.0.10 and will be removed in 0.3.0. An updated version of the class exists in the langchain-openai package and should be used instead. To use it run `pip install -U langchain-openai` and import as `from langchain_openai import ChatOpenAI`.\n",
            "  warn_deprecated(\n",
            "/usr/local/lib/python3.10/dist-packages/langchain_core/_api/deprecation.py:139: LangChainDeprecationWarning: The class `LLMChain` was deprecated in LangChain 0.1.17 and will be removed in 0.3.0. Use RunnableSequence, e.g., `prompt | llm` instead.\n",
            "  warn_deprecated(\n",
            "/usr/local/lib/python3.10/dist-packages/langchain_core/_api/deprecation.py:139: LangChainDeprecationWarning: The method `Chain.run` was deprecated in langchain 0.1.0 and will be removed in 0.3.0. Use invoke instead.\n",
            "  warn_deprecated(\n"
          ]
        },
        {
          "output_type": "stream",
          "name": "stdout",
          "text": [
            "Starting Voyager AGI simulation...\n",
            "\n",
            "Current goal: Craft a stone pickaxe\n",
            "Current state:\n",
            "Resources: {'wood': 0, 'stone': 0, 'iron': 0, 'diamond': 0, 'coal': 0}\n",
            "Crafted items: {'wooden_pickaxe': 0, 'stone_pickaxe': 0, 'iron_pickaxe': 0, 'furnace': 0}\n",
            "\n",
            "Generated plan:\n",
            "- gather wood (amount: 1)\n",
            "- gather stone (amount: 3)\n",
            "- craft wooden_pickaxe\n",
            "- gather coal (amount: 2)\n",
            "- craft furnace\n",
            "- gather iron (amount: 3)\n",
            "- craft iron_pickaxe\n",
            "- gather stone (amount: 3)\n",
            "- craft stone_pickaxe\n",
            "\n",
            "Executing plan:\n",
            "- Gathered 1 wood\n",
            "- Gathered 3 stone\n",
            "- Cannot craft wooden_pickaxe\n",
            "- Gathered 2 coal\n",
            "- Cannot craft furnace\n",
            "- Gathered 3 iron\n",
            "- Cannot craft iron_pickaxe\n",
            "- Gathered 3 stone\n",
            "- Cannot craft stone_pickaxe\n",
            "\n",
            "Reflection:\n",
            "Resources: {'wood': 1, 'stone': 6, 'iron': 3, 'diamond': 0, 'coal': 2}\n",
            "Crafted items: {'wooden_pickaxe': 0, 'stone_pickaxe': 0, 'iron_pickaxe': 0, 'furnace': 0}\n",
            "Goal not achieved. The agent may need to generate a new plan or adjust its strategy.\n",
            "\n",
            "Current goal: Gather 10 iron ore\n",
            "Current state:\n",
            "Resources: {'wood': 1, 'stone': 6, 'iron': 3, 'diamond': 0, 'coal': 2}\n",
            "Crafted items: {'wooden_pickaxe': 0, 'stone_pickaxe': 0, 'iron_pickaxe': 0, 'furnace': 0}\n",
            "\n",
            "Generated plan:\n",
            "- gather iron (amount: 10)\n",
            "\n",
            "Executing plan:\n",
            "- Gathered 10 iron\n",
            "\n",
            "Reflection:\n",
            "Resources: {'wood': 1, 'stone': 6, 'iron': 13, 'diamond': 0, 'coal': 2}\n",
            "Crafted items: {'wooden_pickaxe': 0, 'stone_pickaxe': 0, 'iron_pickaxe': 0, 'furnace': 0}\n",
            "Goal achieved: Gathered 10 iron ore\n",
            "\n",
            "Current goal: Craft an iron pickaxe\n",
            "Current state:\n",
            "Resources: {'wood': 1, 'stone': 6, 'iron': 13, 'diamond': 0, 'coal': 2}\n",
            "Crafted items: {'wooden_pickaxe': 0, 'stone_pickaxe': 0, 'iron_pickaxe': 0, 'furnace': 0}\n",
            "\n",
            "Generated plan:\n",
            "- gather wood (amount: 3)\n",
            "- gather stone (amount: 3)\n",
            "- gather iron (amount: 3)\n",
            "- craft wooden_pickaxe\n",
            "- craft stone_pickaxe\n",
            "- craft iron_pickaxe\n",
            "\n",
            "Executing plan:\n",
            "- Gathered 3 wood\n",
            "- Gathered 3 stone\n",
            "- Gathered 3 iron\n",
            "- Crafted wooden pickaxe\n",
            "- Cannot craft stone_pickaxe\n",
            "- Cannot craft iron_pickaxe\n",
            "\n",
            "Reflection:\n",
            "Resources: {'wood': 1, 'stone': 9, 'iron': 16, 'diamond': 0, 'coal': 2}\n",
            "Crafted items: {'wooden_pickaxe': 1, 'stone_pickaxe': 0, 'iron_pickaxe': 0, 'furnace': 0}\n",
            "Goal not achieved. The agent may need to generate a new plan or adjust its strategy.\n",
            "\n",
            "Current goal: Gather 5 diamonds\n",
            "Current state:\n",
            "Resources: {'wood': 1, 'stone': 9, 'iron': 16, 'diamond': 0, 'coal': 2}\n",
            "Crafted items: {'wooden_pickaxe': 1, 'stone_pickaxe': 0, 'iron_pickaxe': 0, 'furnace': 0}\n",
            "\n",
            "Generated plan:\n",
            "- gather diamond (amount: 5)\n",
            "\n",
            "Executing plan:\n",
            "- Gathered 5 diamond\n",
            "\n",
            "Reflection:\n",
            "Resources: {'wood': 1, 'stone': 9, 'iron': 16, 'diamond': 5, 'coal': 2}\n",
            "Crafted items: {'wooden_pickaxe': 1, 'stone_pickaxe': 0, 'iron_pickaxe': 0, 'furnace': 0}\n",
            "Goal achieved: Gathered 5 diamonds\n"
          ]
        }
      ]
    },
    {
      "cell_type": "markdown",
      "source": [],
      "metadata": {
        "id": "zhGTn4xFJzGc"
      }
    }
  ]
}